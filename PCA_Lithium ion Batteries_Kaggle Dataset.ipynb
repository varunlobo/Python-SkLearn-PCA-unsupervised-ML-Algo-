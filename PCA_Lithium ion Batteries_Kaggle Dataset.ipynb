{
 "cells": [
  {
   "cell_type": "markdown",
   "id": "4bf9eaee",
   "metadata": {},
   "source": [
    "## The purpose of this notebook is to demonstrate knowledge in the use of Principle Component Analysis (PCA) to reduce dimensionality of features, for visualization and classification.\n",
    "## PCA is a widely used unsupervised Machine Learning algorithm "
   ]
  },
  {
   "cell_type": "markdown",
   "id": "613e3e2f",
   "metadata": {},
   "source": [
    "### 1. Import Essential Python Libraries"
   ]
  },
  {
   "cell_type": "code",
   "execution_count": 1,
   "id": "95e766aa",
   "metadata": {},
   "outputs": [],
   "source": [
    "import numpy as np\n",
    "import pandas as pd\n",
    "import matplotlib.pyplot as plt\n",
    "%matplotlib inline\n",
    "import seaborn as sns"
   ]
  },
  {
   "cell_type": "markdown",
   "id": "6f33bd1c",
   "metadata": {},
   "source": [
    "### 2. Read csv file to import data in a dataframe\n"
   ]
  },
  {
   "cell_type": "code",
   "execution_count": 2,
   "id": "5372f996",
   "metadata": {},
   "outputs": [],
   "source": [
    "df = pd.read_csv('lithium-ion batteries.csv')"
   ]
  },
  {
   "cell_type": "code",
   "execution_count": 3,
   "id": "6c5e65aa",
   "metadata": {
    "scrolled": true
   },
   "outputs": [
    {
     "data": {
      "text/html": [
       "<div>\n",
       "<style scoped>\n",
       "    .dataframe tbody tr th:only-of-type {\n",
       "        vertical-align: middle;\n",
       "    }\n",
       "\n",
       "    .dataframe tbody tr th {\n",
       "        vertical-align: top;\n",
       "    }\n",
       "\n",
       "    .dataframe thead th {\n",
       "        text-align: right;\n",
       "    }\n",
       "</style>\n",
       "<table border=\"1\" class=\"dataframe\">\n",
       "  <thead>\n",
       "    <tr style=\"text-align: right;\">\n",
       "      <th></th>\n",
       "      <th>Materials Id</th>\n",
       "      <th>Formula</th>\n",
       "      <th>Spacegroup</th>\n",
       "      <th>Formation Energy (eV)</th>\n",
       "      <th>E Above Hull (eV)</th>\n",
       "      <th>Band Gap (eV)</th>\n",
       "      <th>Nsites</th>\n",
       "      <th>Density (gm/cc)</th>\n",
       "      <th>Volume</th>\n",
       "      <th>Has Bandstructure</th>\n",
       "      <th>Crystal System</th>\n",
       "    </tr>\n",
       "  </thead>\n",
       "  <tbody>\n",
       "    <tr>\n",
       "      <th>0</th>\n",
       "      <td>mp-849394</td>\n",
       "      <td>Li2MnSiO4</td>\n",
       "      <td>Pc</td>\n",
       "      <td>-2.699</td>\n",
       "      <td>0.006</td>\n",
       "      <td>3.462</td>\n",
       "      <td>16</td>\n",
       "      <td>2.993</td>\n",
       "      <td>178.513</td>\n",
       "      <td>True</td>\n",
       "      <td>monoclinic</td>\n",
       "    </tr>\n",
       "    <tr>\n",
       "      <th>1</th>\n",
       "      <td>mp-783909</td>\n",
       "      <td>Li2MnSiO4</td>\n",
       "      <td>P21/c</td>\n",
       "      <td>-2.696</td>\n",
       "      <td>0.008</td>\n",
       "      <td>2.879</td>\n",
       "      <td>32</td>\n",
       "      <td>2.926</td>\n",
       "      <td>365.272</td>\n",
       "      <td>True</td>\n",
       "      <td>monoclinic</td>\n",
       "    </tr>\n",
       "    <tr>\n",
       "      <th>2</th>\n",
       "      <td>mp-761311</td>\n",
       "      <td>Li4MnSi2O7</td>\n",
       "      <td>Cc</td>\n",
       "      <td>-2.775</td>\n",
       "      <td>0.012</td>\n",
       "      <td>3.653</td>\n",
       "      <td>28</td>\n",
       "      <td>2.761</td>\n",
       "      <td>301.775</td>\n",
       "      <td>True</td>\n",
       "      <td>monoclinic</td>\n",
       "    </tr>\n",
       "    <tr>\n",
       "      <th>3</th>\n",
       "      <td>mp-761598</td>\n",
       "      <td>Li4Mn2Si3O10</td>\n",
       "      <td>C2/c</td>\n",
       "      <td>-2.783</td>\n",
       "      <td>0.013</td>\n",
       "      <td>3.015</td>\n",
       "      <td>38</td>\n",
       "      <td>2.908</td>\n",
       "      <td>436.183</td>\n",
       "      <td>True</td>\n",
       "      <td>monoclinic</td>\n",
       "    </tr>\n",
       "    <tr>\n",
       "      <th>4</th>\n",
       "      <td>mp-767709</td>\n",
       "      <td>Li2Mn3Si3O10</td>\n",
       "      <td>C2/c</td>\n",
       "      <td>-2.747</td>\n",
       "      <td>0.016</td>\n",
       "      <td>2.578</td>\n",
       "      <td>36</td>\n",
       "      <td>3.334</td>\n",
       "      <td>421.286</td>\n",
       "      <td>True</td>\n",
       "      <td>monoclinic</td>\n",
       "    </tr>\n",
       "  </tbody>\n",
       "</table>\n",
       "</div>"
      ],
      "text/plain": [
       "  Materials Id       Formula Spacegroup  Formation Energy (eV)  \\\n",
       "0    mp-849394     Li2MnSiO4         Pc                 -2.699   \n",
       "1    mp-783909     Li2MnSiO4      P21/c                 -2.696   \n",
       "2    mp-761311    Li4MnSi2O7         Cc                 -2.775   \n",
       "3    mp-761598  Li4Mn2Si3O10       C2/c                 -2.783   \n",
       "4    mp-767709  Li2Mn3Si3O10       C2/c                 -2.747   \n",
       "\n",
       "   E Above Hull (eV)  Band Gap (eV)  Nsites  Density (gm/cc)   Volume  \\\n",
       "0              0.006          3.462      16            2.993  178.513   \n",
       "1              0.008          2.879      32            2.926  365.272   \n",
       "2              0.012          3.653      28            2.761  301.775   \n",
       "3              0.013          3.015      38            2.908  436.183   \n",
       "4              0.016          2.578      36            3.334  421.286   \n",
       "\n",
       "   Has Bandstructure Crystal System  \n",
       "0               True     monoclinic  \n",
       "1               True     monoclinic  \n",
       "2               True     monoclinic  \n",
       "3               True     monoclinic  \n",
       "4               True     monoclinic  "
      ]
     },
     "execution_count": 3,
     "metadata": {},
     "output_type": "execute_result"
    }
   ],
   "source": [
    "df.head()\n"
   ]
  },
  {
   "cell_type": "code",
   "execution_count": 4,
   "id": "51dbcf74",
   "metadata": {
    "scrolled": false
   },
   "outputs": [
    {
     "data": {
      "text/plain": [
       "Index(['Materials Id', 'Formula', 'Spacegroup', 'Formation Energy (eV)',\n",
       "       'E Above Hull (eV)', 'Band Gap (eV)', 'Nsites', 'Density (gm/cc)',\n",
       "       'Volume', 'Has Bandstructure', 'Crystal System'],\n",
       "      dtype='object')"
      ]
     },
     "execution_count": 4,
     "metadata": {},
     "output_type": "execute_result"
    }
   ],
   "source": [
    "df.columns\n"
   ]
  },
  {
   "cell_type": "markdown",
   "id": "a02f74d3",
   "metadata": {},
   "source": [
    "### 3. We drop columns that are non-numeric and replace the column 'Crystal System' by numeric values"
   ]
  },
  {
   "cell_type": "code",
   "execution_count": 5,
   "id": "6b929b6c",
   "metadata": {},
   "outputs": [],
   "source": [
    "df.drop(['Materials Id', 'Formula', 'Spacegroup','Has Bandstructure'], axis=1, inplace=True)"
   ]
  },
  {
   "cell_type": "code",
   "execution_count": 6,
   "id": "3629df67",
   "metadata": {},
   "outputs": [],
   "source": [
    "df.replace({'Crystal System':{'monoclinic':0, 'triclinic':1,'orthoclinic':3}}, inplace = True)"
   ]
  },
  {
   "cell_type": "code",
   "execution_count": 7,
   "id": "a54242e0",
   "metadata": {},
   "outputs": [
    {
     "data": {
      "text/html": [
       "<div>\n",
       "<style scoped>\n",
       "    .dataframe tbody tr th:only-of-type {\n",
       "        vertical-align: middle;\n",
       "    }\n",
       "\n",
       "    .dataframe tbody tr th {\n",
       "        vertical-align: top;\n",
       "    }\n",
       "\n",
       "    .dataframe thead th {\n",
       "        text-align: right;\n",
       "    }\n",
       "</style>\n",
       "<table border=\"1\" class=\"dataframe\">\n",
       "  <thead>\n",
       "    <tr style=\"text-align: right;\">\n",
       "      <th></th>\n",
       "      <th>Formation Energy (eV)</th>\n",
       "      <th>E Above Hull (eV)</th>\n",
       "      <th>Band Gap (eV)</th>\n",
       "      <th>Nsites</th>\n",
       "      <th>Density (gm/cc)</th>\n",
       "      <th>Volume</th>\n",
       "      <th>Crystal System</th>\n",
       "    </tr>\n",
       "  </thead>\n",
       "  <tbody>\n",
       "    <tr>\n",
       "      <th>0</th>\n",
       "      <td>-2.699</td>\n",
       "      <td>0.006</td>\n",
       "      <td>3.462</td>\n",
       "      <td>16</td>\n",
       "      <td>2.993</td>\n",
       "      <td>178.513</td>\n",
       "      <td>0</td>\n",
       "    </tr>\n",
       "    <tr>\n",
       "      <th>1</th>\n",
       "      <td>-2.696</td>\n",
       "      <td>0.008</td>\n",
       "      <td>2.879</td>\n",
       "      <td>32</td>\n",
       "      <td>2.926</td>\n",
       "      <td>365.272</td>\n",
       "      <td>0</td>\n",
       "    </tr>\n",
       "    <tr>\n",
       "      <th>2</th>\n",
       "      <td>-2.775</td>\n",
       "      <td>0.012</td>\n",
       "      <td>3.653</td>\n",
       "      <td>28</td>\n",
       "      <td>2.761</td>\n",
       "      <td>301.775</td>\n",
       "      <td>0</td>\n",
       "    </tr>\n",
       "    <tr>\n",
       "      <th>3</th>\n",
       "      <td>-2.783</td>\n",
       "      <td>0.013</td>\n",
       "      <td>3.015</td>\n",
       "      <td>38</td>\n",
       "      <td>2.908</td>\n",
       "      <td>436.183</td>\n",
       "      <td>0</td>\n",
       "    </tr>\n",
       "    <tr>\n",
       "      <th>4</th>\n",
       "      <td>-2.747</td>\n",
       "      <td>0.016</td>\n",
       "      <td>2.578</td>\n",
       "      <td>36</td>\n",
       "      <td>3.334</td>\n",
       "      <td>421.286</td>\n",
       "      <td>0</td>\n",
       "    </tr>\n",
       "  </tbody>\n",
       "</table>\n",
       "</div>"
      ],
      "text/plain": [
       "   Formation Energy (eV)  E Above Hull (eV)  Band Gap (eV)  Nsites  \\\n",
       "0                 -2.699              0.006          3.462      16   \n",
       "1                 -2.696              0.008          2.879      32   \n",
       "2                 -2.775              0.012          3.653      28   \n",
       "3                 -2.783              0.013          3.015      38   \n",
       "4                 -2.747              0.016          2.578      36   \n",
       "\n",
       "   Density (gm/cc)   Volume Crystal System  \n",
       "0            2.993  178.513              0  \n",
       "1            2.926  365.272              0  \n",
       "2            2.761  301.775              0  \n",
       "3            2.908  436.183              0  \n",
       "4            3.334  421.286              0  "
      ]
     },
     "execution_count": 7,
     "metadata": {},
     "output_type": "execute_result"
    }
   ],
   "source": [
    "df.head(5)"
   ]
  },
  {
   "cell_type": "code",
   "execution_count": 8,
   "id": "b9401592",
   "metadata": {},
   "outputs": [
    {
     "data": {
      "text/html": [
       "<div>\n",
       "<style scoped>\n",
       "    .dataframe tbody tr th:only-of-type {\n",
       "        vertical-align: middle;\n",
       "    }\n",
       "\n",
       "    .dataframe tbody tr th {\n",
       "        vertical-align: top;\n",
       "    }\n",
       "\n",
       "    .dataframe thead th {\n",
       "        text-align: right;\n",
       "    }\n",
       "</style>\n",
       "<table border=\"1\" class=\"dataframe\">\n",
       "  <thead>\n",
       "    <tr style=\"text-align: right;\">\n",
       "      <th></th>\n",
       "      <th>Formation Energy (eV)</th>\n",
       "      <th>E Above Hull (eV)</th>\n",
       "      <th>Band Gap (eV)</th>\n",
       "      <th>Nsites</th>\n",
       "      <th>Density (gm/cc)</th>\n",
       "      <th>Volume</th>\n",
       "      <th>Crystal System</th>\n",
       "    </tr>\n",
       "  </thead>\n",
       "  <tbody>\n",
       "    <tr>\n",
       "      <th>0</th>\n",
       "      <td>-2.699</td>\n",
       "      <td>0.006</td>\n",
       "      <td>3.462</td>\n",
       "      <td>16</td>\n",
       "      <td>2.993</td>\n",
       "      <td>178.513</td>\n",
       "      <td>0</td>\n",
       "    </tr>\n",
       "    <tr>\n",
       "      <th>1</th>\n",
       "      <td>-2.696</td>\n",
       "      <td>0.008</td>\n",
       "      <td>2.879</td>\n",
       "      <td>32</td>\n",
       "      <td>2.926</td>\n",
       "      <td>365.272</td>\n",
       "      <td>0</td>\n",
       "    </tr>\n",
       "    <tr>\n",
       "      <th>2</th>\n",
       "      <td>-2.775</td>\n",
       "      <td>0.012</td>\n",
       "      <td>3.653</td>\n",
       "      <td>28</td>\n",
       "      <td>2.761</td>\n",
       "      <td>301.775</td>\n",
       "      <td>0</td>\n",
       "    </tr>\n",
       "    <tr>\n",
       "      <th>3</th>\n",
       "      <td>-2.783</td>\n",
       "      <td>0.013</td>\n",
       "      <td>3.015</td>\n",
       "      <td>38</td>\n",
       "      <td>2.908</td>\n",
       "      <td>436.183</td>\n",
       "      <td>0</td>\n",
       "    </tr>\n",
       "    <tr>\n",
       "      <th>4</th>\n",
       "      <td>-2.747</td>\n",
       "      <td>0.016</td>\n",
       "      <td>2.578</td>\n",
       "      <td>36</td>\n",
       "      <td>3.334</td>\n",
       "      <td>421.286</td>\n",
       "      <td>0</td>\n",
       "    </tr>\n",
       "  </tbody>\n",
       "</table>\n",
       "</div>"
      ],
      "text/plain": [
       "   Formation Energy (eV)  E Above Hull (eV)  Band Gap (eV)  Nsites  \\\n",
       "0                 -2.699              0.006          3.462      16   \n",
       "1                 -2.696              0.008          2.879      32   \n",
       "2                 -2.775              0.012          3.653      28   \n",
       "3                 -2.783              0.013          3.015      38   \n",
       "4                 -2.747              0.016          2.578      36   \n",
       "\n",
       "   Density (gm/cc)   Volume Crystal System  \n",
       "0            2.993  178.513              0  \n",
       "1            2.926  365.272              0  \n",
       "2            2.761  301.775              0  \n",
       "3            2.908  436.183              0  \n",
       "4            3.334  421.286              0  "
      ]
     },
     "execution_count": 8,
     "metadata": {},
     "output_type": "execute_result"
    }
   ],
   "source": [
    "df.head(5)"
   ]
  },
  {
   "cell_type": "markdown",
   "id": "14dcda0c",
   "metadata": {},
   "source": [
    "### 4. We now divide the dataset into feature and target dataset"
   ]
  },
  {
   "cell_type": "code",
   "execution_count": 9,
   "id": "3402af02",
   "metadata": {},
   "outputs": [],
   "source": [
    "df_feature=df.iloc[:,0:6]"
   ]
  },
  {
   "cell_type": "code",
   "execution_count": 10,
   "id": "f498c759",
   "metadata": {},
   "outputs": [
    {
     "data": {
      "text/html": [
       "<div>\n",
       "<style scoped>\n",
       "    .dataframe tbody tr th:only-of-type {\n",
       "        vertical-align: middle;\n",
       "    }\n",
       "\n",
       "    .dataframe tbody tr th {\n",
       "        vertical-align: top;\n",
       "    }\n",
       "\n",
       "    .dataframe thead th {\n",
       "        text-align: right;\n",
       "    }\n",
       "</style>\n",
       "<table border=\"1\" class=\"dataframe\">\n",
       "  <thead>\n",
       "    <tr style=\"text-align: right;\">\n",
       "      <th></th>\n",
       "      <th>Formation Energy (eV)</th>\n",
       "      <th>E Above Hull (eV)</th>\n",
       "      <th>Band Gap (eV)</th>\n",
       "      <th>Nsites</th>\n",
       "      <th>Density (gm/cc)</th>\n",
       "      <th>Volume</th>\n",
       "    </tr>\n",
       "  </thead>\n",
       "  <tbody>\n",
       "    <tr>\n",
       "      <th>0</th>\n",
       "      <td>-2.699</td>\n",
       "      <td>0.006</td>\n",
       "      <td>3.462</td>\n",
       "      <td>16</td>\n",
       "      <td>2.993</td>\n",
       "      <td>178.513</td>\n",
       "    </tr>\n",
       "    <tr>\n",
       "      <th>1</th>\n",
       "      <td>-2.696</td>\n",
       "      <td>0.008</td>\n",
       "      <td>2.879</td>\n",
       "      <td>32</td>\n",
       "      <td>2.926</td>\n",
       "      <td>365.272</td>\n",
       "    </tr>\n",
       "    <tr>\n",
       "      <th>2</th>\n",
       "      <td>-2.775</td>\n",
       "      <td>0.012</td>\n",
       "      <td>3.653</td>\n",
       "      <td>28</td>\n",
       "      <td>2.761</td>\n",
       "      <td>301.775</td>\n",
       "    </tr>\n",
       "    <tr>\n",
       "      <th>3</th>\n",
       "      <td>-2.783</td>\n",
       "      <td>0.013</td>\n",
       "      <td>3.015</td>\n",
       "      <td>38</td>\n",
       "      <td>2.908</td>\n",
       "      <td>436.183</td>\n",
       "    </tr>\n",
       "    <tr>\n",
       "      <th>4</th>\n",
       "      <td>-2.747</td>\n",
       "      <td>0.016</td>\n",
       "      <td>2.578</td>\n",
       "      <td>36</td>\n",
       "      <td>3.334</td>\n",
       "      <td>421.286</td>\n",
       "    </tr>\n",
       "  </tbody>\n",
       "</table>\n",
       "</div>"
      ],
      "text/plain": [
       "   Formation Energy (eV)  E Above Hull (eV)  Band Gap (eV)  Nsites  \\\n",
       "0                 -2.699              0.006          3.462      16   \n",
       "1                 -2.696              0.008          2.879      32   \n",
       "2                 -2.775              0.012          3.653      28   \n",
       "3                 -2.783              0.013          3.015      38   \n",
       "4                 -2.747              0.016          2.578      36   \n",
       "\n",
       "   Density (gm/cc)   Volume  \n",
       "0            2.993  178.513  \n",
       "1            2.926  365.272  \n",
       "2            2.761  301.775  \n",
       "3            2.908  436.183  \n",
       "4            3.334  421.286  "
      ]
     },
     "execution_count": 10,
     "metadata": {},
     "output_type": "execute_result"
    }
   ],
   "source": [
    "df_feature.head(5)"
   ]
  },
  {
   "cell_type": "code",
   "execution_count": 11,
   "id": "fd8bf360",
   "metadata": {},
   "outputs": [],
   "source": [
    "df_target=df.iloc[:,-1]"
   ]
  },
  {
   "cell_type": "markdown",
   "id": "f45000af",
   "metadata": {},
   "source": [
    "### 5. We use the StandardScaler library of sklearn to normalize the feature variables. Normalization is a process of shifting the population mean to 0 with stdev = 1. "
   ]
  },
  {
   "cell_type": "code",
   "execution_count": 12,
   "id": "a14cf9bf",
   "metadata": {},
   "outputs": [
    {
     "data": {
      "text/plain": [
       "array([[-0.44704807, -1.72225297,  1.2723743 , -0.98869048,  0.02545524,\n",
       "        -0.98976895],\n",
       "       [-0.43070265, -1.65628565,  0.73572097, -0.2960197 , -0.16410703,\n",
       "        -0.3507142 ],\n",
       "       [-0.86113207, -1.52435101,  1.44819041, -0.4691874 , -0.63093948,\n",
       "        -0.56798919],\n",
       "       ...,\n",
       "       [ 0.47919246,  0.78450515, -1.75239905, -0.16614393, -0.124497  ,\n",
       "        -0.13385326],\n",
       "       [ 1.46536619,  0.94942345, -0.6873769 , -1.07527433, -1.50801863,\n",
       "        -0.86818844],\n",
       "       [ 1.14935472,  1.04837443, -1.61708508, -1.0319824 ,  0.16691962,\n",
       "        -0.99765966]])"
      ]
     },
     "execution_count": 12,
     "metadata": {},
     "output_type": "execute_result"
    }
   ],
   "source": [
    "from sklearn.preprocessing import StandardScaler\n",
    "scaler = StandardScaler()\n",
    "\n",
    "df_scaled = scaler.fit_transform(df_feature)\n",
    "df_scaled"
   ]
  },
  {
   "cell_type": "markdown",
   "id": "be06de64",
   "metadata": {},
   "source": [
    "### 6. We import PCA from sklearn.decomposition and specify total number of components as 2"
   ]
  },
  {
   "cell_type": "code",
   "execution_count": 13,
   "id": "4c14c9ef",
   "metadata": {},
   "outputs": [
    {
     "data": {
      "text/plain": [
       "PCA(n_components=2)"
      ]
     },
     "execution_count": 13,
     "metadata": {},
     "output_type": "execute_result"
    }
   ],
   "source": [
    "from sklearn.decomposition import PCA\n",
    "pca=PCA(n_components=2)\n",
    "pca.fit(df_scaled)"
   ]
  },
  {
   "cell_type": "code",
   "execution_count": 14,
   "id": "8d21066c",
   "metadata": {},
   "outputs": [],
   "source": [
    "x_pca=pca.transform(df_scaled)\n"
   ]
  },
  {
   "cell_type": "markdown",
   "id": "d8f076fc",
   "metadata": {},
   "source": [
    "### 7. The cumulative explained variance ratio shows how much of the original data variance is captured in the 2 Principle components. \n",
    "#### In our case, our 2 PCA accounts for 69% of the variation from the original dataset. This is not ideal but we'll see how the final results look like.\n"
   ]
  },
  {
   "cell_type": "code",
   "execution_count": 15,
   "id": "8abfba29",
   "metadata": {},
   "outputs": [
    {
     "data": {
      "text/plain": [
       "array([0.41458948, 0.69279529])"
      ]
     },
     "execution_count": 15,
     "metadata": {},
     "output_type": "execute_result"
    }
   ],
   "source": [
    "pca.explained_variance_ratio_.cumsum()"
   ]
  },
  {
   "cell_type": "markdown",
   "id": "807aa289",
   "metadata": {},
   "source": [
    "### 8. We now put our PCA data into a DataFrame for convenience."
   ]
  },
  {
   "cell_type": "code",
   "execution_count": 16,
   "id": "a59b3a34",
   "metadata": {},
   "outputs": [],
   "source": [
    "df_x_pca=pd.DataFrame(data=x_pca, columns=['PC1','PC2'])"
   ]
  },
  {
   "cell_type": "code",
   "execution_count": 17,
   "id": "638cacd5",
   "metadata": {},
   "outputs": [
    {
     "data": {
      "text/html": [
       "<div>\n",
       "<style scoped>\n",
       "    .dataframe tbody tr th:only-of-type {\n",
       "        vertical-align: middle;\n",
       "    }\n",
       "\n",
       "    .dataframe tbody tr th {\n",
       "        vertical-align: top;\n",
       "    }\n",
       "\n",
       "    .dataframe thead th {\n",
       "        text-align: right;\n",
       "    }\n",
       "</style>\n",
       "<table border=\"1\" class=\"dataframe\">\n",
       "  <thead>\n",
       "    <tr style=\"text-align: right;\">\n",
       "      <th></th>\n",
       "      <th>PC1</th>\n",
       "      <th>PC2</th>\n",
       "    </tr>\n",
       "  </thead>\n",
       "  <tbody>\n",
       "    <tr>\n",
       "      <th>0</th>\n",
       "      <td>-0.131661</td>\n",
       "      <td>-2.530181</td>\n",
       "    </tr>\n",
       "    <tr>\n",
       "      <th>1</th>\n",
       "      <td>0.406331</td>\n",
       "      <td>-1.692005</td>\n",
       "    </tr>\n",
       "    <tr>\n",
       "      <th>2</th>\n",
       "      <td>0.817056</td>\n",
       "      <td>-2.317420</td>\n",
       "    </tr>\n",
       "    <tr>\n",
       "      <th>3</th>\n",
       "      <td>0.914121</td>\n",
       "      <td>-1.590049</td>\n",
       "    </tr>\n",
       "    <tr>\n",
       "      <th>4</th>\n",
       "      <td>0.135599</td>\n",
       "      <td>-1.171467</td>\n",
       "    </tr>\n",
       "    <tr>\n",
       "      <th>...</th>\n",
       "      <td>...</td>\n",
       "      <td>...</td>\n",
       "    </tr>\n",
       "    <tr>\n",
       "      <th>334</th>\n",
       "      <td>-0.768272</td>\n",
       "      <td>-0.846557</td>\n",
       "    </tr>\n",
       "    <tr>\n",
       "      <th>335</th>\n",
       "      <td>-1.796571</td>\n",
       "      <td>2.129873</td>\n",
       "    </tr>\n",
       "    <tr>\n",
       "      <th>336</th>\n",
       "      <td>-1.036851</td>\n",
       "      <td>1.274752</td>\n",
       "    </tr>\n",
       "    <tr>\n",
       "      <th>337</th>\n",
       "      <td>-1.414845</td>\n",
       "      <td>0.234380</td>\n",
       "    </tr>\n",
       "    <tr>\n",
       "      <th>338</th>\n",
       "      <td>-2.308164</td>\n",
       "      <td>0.854708</td>\n",
       "    </tr>\n",
       "  </tbody>\n",
       "</table>\n",
       "<p>339 rows × 2 columns</p>\n",
       "</div>"
      ],
      "text/plain": [
       "          PC1       PC2\n",
       "0   -0.131661 -2.530181\n",
       "1    0.406331 -1.692005\n",
       "2    0.817056 -2.317420\n",
       "3    0.914121 -1.590049\n",
       "4    0.135599 -1.171467\n",
       "..        ...       ...\n",
       "334 -0.768272 -0.846557\n",
       "335 -1.796571  2.129873\n",
       "336 -1.036851  1.274752\n",
       "337 -1.414845  0.234380\n",
       "338 -2.308164  0.854708\n",
       "\n",
       "[339 rows x 2 columns]"
      ]
     },
     "execution_count": 17,
     "metadata": {},
     "output_type": "execute_result"
    }
   ],
   "source": [
    "df_x_pca"
   ]
  },
  {
   "cell_type": "code",
   "execution_count": 18,
   "id": "2b379f71",
   "metadata": {},
   "outputs": [],
   "source": [
    "df = pd.read_csv('lithium-ion batteries.csv')"
   ]
  },
  {
   "cell_type": "markdown",
   "id": "349d692f",
   "metadata": {},
   "source": [
    "### 9. When we plot our PC1 vs PC2, we see that there is an overlap of the 2 class of target variable. Ideally the separation must be clearly evident, but that's not the case here. "
   ]
  },
  {
   "cell_type": "code",
   "execution_count": 25,
   "id": "e41fb058",
   "metadata": {},
   "outputs": [
    {
     "data": {
      "text/plain": [
       "<AxesSubplot:xlabel='PC1', ylabel='PC2'>"
      ]
     },
     "execution_count": 25,
     "metadata": {},
     "output_type": "execute_result"
    },
    {
     "data": {
      "image/png": "[encoded data removed]",
      "text/plain": [
       "<Figure size 576x360 with 1 Axes>"
      ]
     },
     "metadata": {
      "needs_background": "light"
     },
     "output_type": "display_data"
    }
   ],
   "source": [
    "plt.figure(figsize = (8,5))\n",
    "sns.scatterplot(data=df_x_pca,x='PC1',y='PC2',hue=df['Has Bandstructure'])\n"
   ]
  },
  {
   "cell_type": "markdown",
   "id": "fa2b0204",
   "metadata": {},
   "source": [
    "### 10. PCA should be used mainly for variables which are strongly correlated. If the relationship is weak between variables, PCA does not work well to reduce data.  In general, if most of the correlation coefficients are smaller than 0.3, PCA will not help."
   ]
  },
  {
   "cell_type": "code",
   "execution_count": 21,
   "id": "ff5d0dbe",
   "metadata": {},
   "outputs": [
    {
     "data": {
      "image/png": "[encoded data removed]",
      "text/plain": [
       "<Figure size 1152x720 with 2 Axes>"
      ]
     },
     "metadata": {
      "needs_background": "light"
     },
     "output_type": "display_data"
    }
   ],
   "source": [
    "plt.figure(figsize = (16,10))\n",
    "sns.heatmap(data=df.corr().round(2), cmap='coolwarm', annot=True, annot_kws={\"size\":14})\n",
    "plt.show()"
   ]
  },
  {
   "cell_type": "markdown",
   "id": "3c2cd37e",
   "metadata": {},
   "source": [
    "### In conclusion, we have demonstarted an understanding of how Principle Component Analysis (PCA) unsupervised machine learning algorithm can be used to reduce dimensionality in feature variables, for easy visualization or classification. In our specific example, PCA did not yeild fruitful results as desired. "
   ]
  },
  {
   "cell_type": "code",
   "execution_count": null,
   "id": "b50745d0",
   "metadata": {},
   "outputs": [],
   "source": []
  }
 ],
 "metadata": {
  "kernelspec": {
   "display_name": "Python 3 (ipykernel)",
   "language": "python",
   "name": "python3"
  },
  "language_info": {
   "codemirror_mode": {
    "name": "ipython",
    "version": 3
   },
   "file_extension": ".py",
   "mimetype": "text/x-python",
   "name": "python",
   "nbconvert_exporter": "python",
   "pygments_lexer": "ipython3",
   "version": "3.9.12"
  }
 },
 "nbformat": 4,
 "nbformat_minor": 5
}
